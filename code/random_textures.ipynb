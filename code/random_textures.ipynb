{
 "cells": [
  {
   "cell_type": "code",
   "execution_count": 1,
   "metadata": {},
   "outputs": [],
   "source": [
    "import numpy as np\n",
    "import matplotlib.pyplot as plt\n",
    "import os\n",
    "\n",
    "from PIL import Image\n"
   ]
  },
  {
   "cell_type": "code",
   "execution_count": 2,
   "metadata": {},
   "outputs": [
    {
     "name": "stdout",
     "output_type": "stream",
     "text": [
      "Saved ../data_generation/random_textures/noise_gray_0.png\n",
      "Saved ../data_generation/random_textures/noise_gray_1.png\n",
      "Saved ../data_generation/random_textures/noise_gray_2.png\n",
      "Saved ../data_generation/random_textures/noise_gray_3.png\n",
      "Saved ../data_generation/random_textures/noise_gray_4.png\n",
      "Saved ../data_generation/random_textures/noise_gray_5.png\n",
      "Saved ../data_generation/random_textures/noise_gray_6.png\n",
      "Saved ../data_generation/random_textures/noise_gray_7.png\n",
      "Saved ../data_generation/random_textures/noise_gray_8.png\n",
      "Saved ../data_generation/random_textures/noise_gray_9.png\n"
     ]
    }
   ],
   "source": [
    "width, height = 256,256\n",
    "\n",
    "for i in range(10):\n",
    "    random_noise = np.random.random((height, width))\n",
    "    path = os.path.join(\"..\", \"data_generation\", \"random_textures\", f\"noise_gray_{i}.png\")\n",
    "    plt.imsave(path, random_noise, cmap=\"gray\")\n",
    "    print(f\"Saved {path}\")"
   ]
  },
  {
   "cell_type": "code",
   "execution_count": 3,
   "metadata": {},
   "outputs": [
    {
     "name": "stdout",
     "output_type": "stream",
     "text": [
      "Saved ../data_generation/random_textures/color_0.png\n",
      "Saved ../data_generation/random_textures/color_1.png\n",
      "Saved ../data_generation/random_textures/color_2.png\n",
      "Saved ../data_generation/random_textures/color_3.png\n",
      "Saved ../data_generation/random_textures/color_4.png\n",
      "Saved ../data_generation/random_textures/color_5.png\n",
      "Saved ../data_generation/random_textures/color_6.png\n",
      "Saved ../data_generation/random_textures/color_7.png\n",
      "Saved ../data_generation/random_textures/color_8.png\n",
      "Saved ../data_generation/random_textures/color_9.png\n"
     ]
    }
   ],
   "source": [
    "width, height = 256,256\n",
    "\n",
    "for i in range(10):\n",
    "    random_pixel = np.random.random((1,3))\n",
    "    random_color = np.tile(random_pixel, (width,height,1))\n",
    "    path = os.path.join(\"..\", \"data_generation\", \"random_textures\", f\"color_{i}.png\")\n",
    "    plt.imsave(path, random_color)\n",
    "    print(f\"Saved {path}\")"
   ]
  },
  {
   "cell_type": "code",
   "execution_count": 4,
   "metadata": {},
   "outputs": [
    {
     "name": "stdout",
     "output_type": "stream",
     "text": [
      "Saved ../data_generation/random_textures/gray_0.png\n",
      "Saved ../data_generation/random_textures/gray_1.png\n",
      "Saved ../data_generation/random_textures/gray_2.png\n",
      "Saved ../data_generation/random_textures/gray_3.png\n",
      "Saved ../data_generation/random_textures/gray_4.png\n",
      "Saved ../data_generation/random_textures/gray_5.png\n",
      "Saved ../data_generation/random_textures/gray_6.png\n",
      "Saved ../data_generation/random_textures/gray_7.png\n",
      "Saved ../data_generation/random_textures/gray_8.png\n",
      "Saved ../data_generation/random_textures/gray_9.png\n"
     ]
    }
   ],
   "source": [
    "width, height = 256,256\n",
    "\n",
    "for i in range(10):\n",
    "    value = np.random.randint(0,256)\n",
    "    random_gray = np.full((height,width),value)\n",
    "    path = os.path.join(\"..\",\"data_generation\" , \"random_textures\", f\"gray_{i}.png\")\n",
    "    Image.fromarray(random_gray.astype(np.uint8)).save(path)\n",
    "    print(f\"Saved {path}\")"
   ]
  }
 ],
 "metadata": {
  "kernelspec": {
   "display_name": "keyboard_det",
   "language": "python",
   "name": "python3"
  },
  "language_info": {
   "codemirror_mode": {
    "name": "ipython",
    "version": 3
   },
   "file_extension": ".py",
   "mimetype": "text/x-python",
   "name": "python",
   "nbconvert_exporter": "python",
   "pygments_lexer": "ipython3",
   "version": "3.13.1"
  }
 },
 "nbformat": 4,
 "nbformat_minor": 2
}
